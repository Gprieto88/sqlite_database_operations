{
  "nbformat": 4,
  "nbformat_minor": 0,
  "metadata": {
    "colab": {
      "provenance": [],
      "authorship_tag": "ABX9TyN+Mm36+km/iDZsOQy/xdBz",
      "include_colab_link": true
    },
    "kernelspec": {
      "name": "python3",
      "display_name": "Python 3"
    },
    "language_info": {
      "name": "python"
    }
  },
  "cells": [
    {
      "cell_type": "markdown",
      "metadata": {
        "id": "view-in-github",
        "colab_type": "text"
      },
      "source": [
        "<a href=\"https://colab.research.google.com/github/Gprieto88/sqlite_database_operations/blob/main/geospatial.ipynb\" target=\"_parent\"><img src=\"https://colab.research.google.com/assets/colab-badge.svg\" alt=\"Open In Colab\"/></a>"
      ]
    },
    {
      "cell_type": "code",
      "execution_count": 2,
      "metadata": {
        "id": "QL16uwrGcUVW"
      },
      "outputs": [],
      "source": [
        "import geopandas as gpd\n",
        "\n",
        "# Load in packages\n",
        "import pandas as pd\n",
        "import numpy as np\n",
        "import sqlite3\n",
        "from sqlalchemy import create_engine\n",
        "\n"
      ]
    },
    {
      "cell_type": "code",
      "source": [
        "!wget -o cancer.geojson https://data-lakecountyil.opendata.arcgis.com/datasets/lakecountyil::cancer-rates.geojson?where=1=1&outSR=%7B%22latestWkid%22%3A3435%2C%22wkid%22%3A102671%7D"
      ],
      "metadata": {
        "id": "0BreGDZtclwG"
      },
      "execution_count": 13,
      "outputs": []
    },
    {
      "cell_type": "markdown",
      "source": [
        "# New Section"
      ],
      "metadata": {
        "id": "bMAhm6jXdQmf"
      }
    },
    {
      "cell_type": "code",
      "source": [
        "df_gpd = gpd.read_file('Cancer_Rates.geojson')\n",
        "df_gpd"
      ],
      "metadata": {
        "id": "2-uVaoEtdNFR"
      },
      "execution_count": null,
      "outputs": []
    },
    {
      "cell_type": "markdown",
      "source": [
        "# New Section"
      ],
      "metadata": {
        "id": "zhdb8-3ycofg"
      }
    },
    {
      "cell_type": "code",
      "source": [
        "df_gpd.shape\n",
        "(26,11)"
      ],
      "metadata": {
        "id": "Ot_TpDZiffSZ"
      },
      "execution_count": null,
      "outputs": []
    },
    {
      "cell_type": "code",
      "source": [
        "# Columns\n",
        "df_gpd.columns\n",
        "Index(['FID', 'ZIP', 'Colorectal', 'Lung_Bronc', 'Breast_can',\n",
        "       'Prostate_C', 'Urinary_Sy',\n",
        "       'All_Cancer', 'SHAPE_length',\n",
        "       'SHAPE_Area', 'geometry'],\n",
        "      dtype='object')\n"
      ],
      "metadata": {
        "id": "vNap9JRnHz5z"
      },
      "execution_count": null,
      "outputs": []
    },
    {
      "cell_type": "code",
      "source": [
        "# Check the type of data in each column\n",
        "df_gpd.dtypes\n",
        "\n",
        "FID           Object\n",
        "ZIP           Object\n",
        "Colorectal    Object\n",
        "Lung_Bronc    float64\n",
        "Breast_can    float64\n",
        "Prostate_C    float64\n",
        "Urinary_Sy    float64\n",
        "All_Cancer    float64\n",
        "SHAPE_length  float64\n",
        "SHAPE_Area    float64\n",
        "geometry      float64\n",
        "\n",
        "\n",
        "\n"
      ],
      "metadata": {
        "id": "Q3DrQf6Wbb_E"
      },
      "execution_count": null,
      "outputs": []
    },
    {
      "cell_type": "markdown",
      "source": [
        "# Create a temporary and local database using SQLITE"
      ],
      "metadata": {
        "id": "w9YGETF7em9R"
      }
    },
    {
      "cell_type": "code",
      "source": [
        "conn = sqlite3.connect('health.db')\n",
        "c = conn.cursor()"
      ],
      "metadata": {
        "id": "8upqYGBCezgU"
      },
      "execution_count": 16,
      "outputs": []
    },
    {
      "cell_type": "code",
      "source": [],
      "metadata": {
        "id": "86dsHPdhft0s"
      },
      "execution_count": null,
      "outputs": []
    },
    {
      "cell_type": "markdown",
      "source": [
        "# Create a new table called Lake County with the health.db file\n",
        "# that has two categorical columns and two numerical columns"
      ],
      "metadata": {
        "id": "HM2_9fjte8cC"
      }
    },
    {
      "cell_type": "code",
      "source": [
        "c.execute('''CREATE TABLE Lake County\n",
        "                (\n",
        "                    [FID] text,\n",
        "                    [ZIP] text,\n",
        "                    [Lung_bronc] real,\n",
        "                    [Breast_can] real\n",
        "\n",
        "                )''')\n",
        "\n",
        "conn.commit()"
      ],
      "metadata": {
        "id": "Txi0uWNae2Y6"
      },
      "execution_count": null,
      "outputs": []
    },
    {
      "cell_type": "code",
      "source": [],
      "metadata": {
        "id": "BswFdE1repHR"
      },
      "execution_count": null,
      "outputs": []
    }
  ]
}